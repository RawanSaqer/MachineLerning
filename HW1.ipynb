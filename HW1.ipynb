{
 "cells": [
  {
   "cell_type": "markdown",
   "metadata": {},
   "source": [
    "# Name:\n",
    "# ID:"
   ]
  },
  {
   "cell_type": "code",
   "execution_count": 2,
   "metadata": {},
   "outputs": [],
   "source": [
    "import numpy as np"
   ]
  },
  {
   "cell_type": "code",
   "execution_count": 9,
   "metadata": {},
   "outputs": [],
   "source": [
    "## your code must be implmented based on matrices and vectors.\n",
    "class linear_regression:\n",
    "    # X is the X_dataset\n",
    "    # Y is the Y_dataset\n",
    "    # n is the number of paramaters (theta)\n",
    "    def __init__(self, X,Y, n):\n",
    "        self.X=X\n",
    "        self.Y=Y\n",
    "        self.X_train=None\n",
    "        self.Y_train\n",
    "        self.X_train=None\n",
    "        self.X_test=None\n",
    "        self.y_train=None\n",
    "        self.y_test=None\n",
    "        \n",
    "        # create a vector of theta with length n+1 (theta_0, theta_1, ......, theta_n)\n",
    "        self.theta=np.zeros(n+1)\n",
    "        ## write your code there\n",
    "    \n",
    "    \n",
    "    # Add column of ones to X to represent x0\n",
    "    def concatenate_X0_with_X(self):\n",
    "        pass\n",
    "    \n",
    "    def split_dataset(self, test_percentage=0.3):\n",
    "        ## used the train_test_split in sklearn\n",
    "        pass\n",
    "        \n",
    "\n",
    "    # y_hat=theta' X\n",
    "    def predict(self, X):\n",
    "        return np.dot(self.theta.T,X)\n",
    "    \n",
    "    def fit(self, lr, epochs):\n",
    "    \n",
    "        pass\n",
    "    \n",
    "    \n",
    "    ######## You can add any functions\n",
    "    "
   ]
  }
 ],
 "metadata": {
  "kernelspec": {
   "display_name": "Python 3",
   "language": "python",
   "name": "python3"
  },
  "language_info": {
   "codemirror_mode": {
    "name": "ipython",
    "version": 3
   },
   "file_extension": ".py",
   "mimetype": "text/x-python",
   "name": "python",
   "nbconvert_exporter": "python",
   "pygments_lexer": "ipython3",
   "version": "3.7.4"
  }
 },
 "nbformat": 4,
 "nbformat_minor": 2
}
